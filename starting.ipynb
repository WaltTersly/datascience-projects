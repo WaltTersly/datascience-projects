{
    "cells": [
        {
            "cell_type": "code",
            "execution_count": 1,
            "source": [
                "7**4"
            ],
            "outputs": [
                {
                    "output_type": "execute_result",
                    "data": {
                        "text/plain": [
                            "2401"
                        ]
                    },
                    "metadata": {},
                    "execution_count": 1
                }
            ],
            "metadata": {}
        },
        {
            "cell_type": "code",
            "execution_count": 2,
            "source": [
                "s = \"Hi there Sam!\"\n",
                "s.split()"
            ],
            "outputs": [
                {
                    "output_type": "execute_result",
                    "data": {
                        "text/plain": [
                            "['Hi', 'there', 'Sam!']"
                        ]
                    },
                    "metadata": {},
                    "execution_count": 2
                }
            ],
            "metadata": {}
        },
        {
            "cell_type": "code",
            "execution_count": 3,
            "source": [
                "planet = \"Earth\"\n",
                "diameter = 12742\n",
                "\n",
                "print('The diameter of {} is {} kilometers'.format(planet, diameter))"
            ],
            "outputs": [
                {
                    "output_type": "stream",
                    "name": "stdout",
                    "text": [
                        "The diameter of Earth is 12742 kilometers\n"
                    ]
                }
            ],
            "metadata": {}
        },
        {
            "cell_type": "code",
            "execution_count": 8,
            "source": [
                "lst = [1,2,[3,4],[5,[100,200,['hello']],23,11],1,7]\n",
                "lst[3][1][2][0]"
            ],
            "outputs": [
                {
                    "output_type": "execute_result",
                    "data": {
                        "text/plain": [
                            "'hello'"
                        ]
                    },
                    "metadata": {},
                    "execution_count": 8
                }
            ],
            "metadata": {}
        },
        {
            "cell_type": "code",
            "execution_count": 14,
            "source": [
                "d = {'k1': [1,2,3,{'tricky':['oh', 'man', 'inception', {'target': [1,2,3, 'hello']}]}]}\n",
                "d['k1'][3]['tricky'][3]['target']"
            ],
            "outputs": [
                {
                    "output_type": "execute_result",
                    "data": {
                        "text/plain": [
                            "'hello'"
                        ]
                    },
                    "metadata": {},
                    "execution_count": 14
                }
            ],
            "metadata": {}
        },
        {
            "cell_type": "code",
            "execution_count": 15,
            "source": [
                "def domainGet(email):\n",
                "    return email.split('@')[1]\n",
                "\n",
                "domainGet('chegewalter@gmail.com')"
            ],
            "outputs": [
                {
                    "output_type": "execute_result",
                    "data": {
                        "text/plain": [
                            "'gmail.com'"
                        ]
                    },
                    "metadata": {},
                    "execution_count": 15
                }
            ],
            "metadata": {}
        },
        {
            "cell_type": "code",
            "execution_count": 16,
            "source": [
                "def findDog(sentence):\n",
                "    return 'dog' in sentence.lower().split()\n",
                "\n",
                "findDog('Is there a dog here?')"
            ],
            "outputs": [
                {
                    "output_type": "execute_result",
                    "data": {
                        "text/plain": [
                            "True"
                        ]
                    },
                    "metadata": {},
                    "execution_count": 16
                }
            ],
            "metadata": {}
        },
        {
            "cell_type": "code",
            "execution_count": 17,
            "source": [
                "def countDog(sentensi):\n",
                "    count = 0\n",
                "    for word in sentensi.lower().split():\n",
                "        if word == 'dog':\n",
                "            count +=1\n",
                "    return count\n",
                "\n",
                "countDog('This dog runs faster than the other dog dude!')"
            ],
            "outputs": [
                {
                    "output_type": "execute_result",
                    "data": {
                        "text/plain": [
                            "2"
                        ]
                    },
                    "metadata": {},
                    "execution_count": 17
                }
            ],
            "metadata": {}
        },
        {
            "cell_type": "code",
            "execution_count": 18,
            "source": [
                "seq = ['soup', 'dog', 'salad', 'rat', 'great']\n",
                "list(filter(lambda word: word[0] == 's', seq))"
            ],
            "outputs": [
                {
                    "output_type": "execute_result",
                    "data": {
                        "text/plain": [
                            "['soup', 'salad']"
                        ]
                    },
                    "metadata": {},
                    "execution_count": 18
                }
            ],
            "metadata": {}
        },
        {
            "cell_type": "code",
            "execution_count": 21,
            "source": [
                "def caught_speeding(speed, is_birthday):\n",
                "    if is_birthday:\n",
                "        speeding = speed-5\n",
                "    else:\n",
                "        speeding = speed\n",
                "\n",
                "    \n",
                "    if speeding > 80:\n",
                "        return 'Big ticket'\n",
                "    elif speeding > 60:\n",
                "         return 'small ticket'\n",
                "    else:\n",
                "        return 'no ticket'\n",
                "\n",
                "\n",
                "caught_speeding(81, True)\n",
                "\n",
                "#caught_speeding(81, False)"
            ],
            "outputs": [
                {
                    "output_type": "execute_result",
                    "data": {
                        "text/plain": [
                            "'small ticket'"
                        ]
                    },
                    "metadata": {},
                    "execution_count": 21
                }
            ],
            "metadata": {}
        },
        {
            "cell_type": "code",
            "execution_count": null,
            "source": [],
            "outputs": [],
            "metadata": {}
        }
    ],
    "metadata": {
        "orig_nbformat": 4,
        "language_info": {
            "name": "python",
            "version": "3.8.8",
            "mimetype": "text/x-python",
            "codemirror_mode": {
                "name": "ipython",
                "version": 3
            },
            "pygments_lexer": "ipython3",
            "nbconvert_exporter": "python",
            "file_extension": ".py"
        },
        "kernelspec": {
            "name": "python3",
            "display_name": "Python 3.8.8 64-bit ('base': conda)"
        },
        "interpreter": {
            "hash": "c94cb9e5dbf927c05966da724f33003e0acb514e0604ba35bba4e7482d5c7dc0"
        }
    },
    "nbformat": 4,
    "nbformat_minor": 2
}